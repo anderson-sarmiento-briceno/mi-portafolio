{
 "cells": [
  {
   "cell_type": "markdown",
   "id": "3ac94962",
   "metadata": {},
   "source": [
    "# Predicción de precio  de Acción  Índice Ibovespa "
   ]
  },
  {
   "cell_type": "markdown",
   "id": "25c91e16",
   "metadata": {},
   "source": [
    "## Objetivo"
   ]
  },
  {
   "cell_type": "markdown",
   "id": "dfb70ad1",
   "metadata": {},
   "source": [
    "Realizar modelo de regresión lineal capaz de predecir la apertura de una acción del índice Ibovespa teniendo como base datos de analisis acciones negociadas entre 1994 y 2020 ."
   ]
  },
  {
   "cell_type": "markdown",
   "id": "7fb4db99",
   "metadata": {},
   "source": [
    "## Descripción"
   ]
  },
  {
   "cell_type": "markdown",
   "id": "8c408019",
   "metadata": {},
   "source": [
    "Dado un dataset que reflejan acciones negociadas en la bolsa B3 de 1994 a 2020 donde se registran el resumen de los movimientos diarios por acción se realizará lo siguiente:\n",
    "\n",
    "Se analizará que acciones contienen los mejores datos para realizar el análisis.\n",
    "\n",
    "Se escogerá la acción con más cantidad de datos.\n",
    "\n",
    "Se realizara EDA  la acción escogida.\n",
    "\n",
    "Se analizarán diferentes modelos de Regresión Lineal para hacer predicción.\n",
    "\n",
    "Conclusiones\n",
    "\n"
   ]
  },
  {
   "cell_type": "markdown",
   "id": "2249d176",
   "metadata": {},
   "source": [
    "Nota: el desarrollo de este trabajo no tiene como fin describir el comportamiento del mercado bursátil si no analizar y/o probar modelos de regresión."
   ]
  },
  {
   "cell_type": "markdown",
   "id": "8f128fac",
   "metadata": {},
   "source": [
    "# Análisis de acciones"
   ]
  },
  {
   "cell_type": "markdown",
   "id": "b5228e76",
   "metadata": {},
   "source": [
    "## Importar Dataset"
   ]
  },
  {
   "cell_type": "code",
   "execution_count": 1,
   "id": "31c81181",
   "metadata": {},
   "outputs": [],
   "source": [
    "import pandas as pd\n",
    "import numpy as np\n",
    "import seaborn as sns\n",
    "import matplotlib.pyplot as plt\n",
    "from sklearn import metrics"
   ]
  },
  {
   "cell_type": "code",
   "execution_count": 2,
   "id": "72b73e25",
   "metadata": {},
   "outputs": [],
   "source": [
    "import warnings\n",
    "warnings.simplefilter(\"ignore\")"
   ]
  },
  {
   "cell_type": "markdown",
   "id": "aa272edb",
   "metadata": {},
   "source": [
    "fuente de datos"
   ]
  },
  {
   "cell_type": "markdown",
   "id": "8cf8e72a",
   "metadata": {},
   "source": [
    "https://www.kaggle.com/datasets/felsal/ibovespa-stocks"
   ]
  },
  {
   "cell_type": "markdown",
   "id": "e8ca04b1",
   "metadata": {},
   "source": [
    "Importar Dataset con pandas"
   ]
  },
  {
   "cell_type": "code",
   "execution_count": 3,
   "id": "0e1ea19d",
   "metadata": {},
   "outputs": [
    {
     "name": "stdout",
     "output_type": "stream",
     "text": [
      "     datetime ticker    open   close    high     low    volume\n",
      "0  1994-07-04  ACE 3   48.00   48.00   48.00   47.00   46550.0\n",
      "1  1994-07-04  ALP 3  155.27  156.00  156.00  155.27  163405.8\n",
      "2  1994-07-04  ALP 4  131.00  131.00  131.00  131.00    6550.0\n",
      "3  1994-07-04  IBP 6  600.00  600.00  600.00  600.00    7800.0\n",
      "4  1994-07-04  AQT 4    0.89    0.99    0.99    0.85   13137.0\n"
     ]
    }
   ],
   "source": [
    "\n",
    "dataset = pd.read_csv('b3_stocks_1994_2020.csv')\n",
    "print(dataset.head(5))"
   ]
  },
  {
   "cell_type": "code",
   "execution_count": 4,
   "id": "91b0cfba",
   "metadata": {},
   "outputs": [
    {
     "data": {
      "text/plain": [
       "(1883203, 7)"
      ]
     },
     "execution_count": 4,
     "metadata": {},
     "output_type": "execute_result"
    }
   ],
   "source": [
    "dataset.shape"
   ]
  },
  {
   "cell_type": "code",
   "execution_count": 5,
   "id": "d5278542",
   "metadata": {},
   "outputs": [
    {
     "data": {
      "text/plain": [
       "Index(['datetime', 'ticker', 'open', 'close', 'high', 'low', 'volume'], dtype='object')"
      ]
     },
     "execution_count": 5,
     "metadata": {},
     "output_type": "execute_result"
    }
   ],
   "source": [
    "dataset.columns"
   ]
  },
  {
   "cell_type": "markdown",
   "id": "79c3a553",
   "metadata": {},
   "source": [
    "se tiene un dataset con 1883203 que representan el resumen de los movimientos del dia de la acción con 7 columnas que son el resultado de los precios de:\n",
    "apertura, cierre, valor más alto y valor más bajo. También se cuenta con el volumen de la acción por día.\n"
   ]
  },
  {
   "cell_type": "markdown",
   "id": "69630fe1",
   "metadata": {},
   "source": [
    "# EDA Índice Ibovespa"
   ]
  },
  {
   "cell_type": "code",
   "execution_count": 6,
   "id": "78c73993",
   "metadata": {},
   "outputs": [
    {
     "data": {
      "text/plain": [
       "datetime     object\n",
       "ticker       object\n",
       "open        float64\n",
       "close       float64\n",
       "high        float64\n",
       "low         float64\n",
       "volume      float64\n",
       "dtype: object"
      ]
     },
     "execution_count": 6,
     "metadata": {},
     "output_type": "execute_result"
    }
   ],
   "source": [
    "dataset.dtypes"
   ]
  },
  {
   "cell_type": "markdown",
   "id": "4f2237ed",
   "metadata": {},
   "source": [
    "dado que la fecha del movimiento de la acción esta como tipo objecto se cambiará a formato de fecha. esto es necesario para realizar los análisis en el tiempo."
   ]
  },
  {
   "cell_type": "code",
   "execution_count": 7,
   "id": "6ab857f2",
   "metadata": {},
   "outputs": [],
   "source": [
    "dataset['datetime'] = pd.to_datetime(dataset['datetime'])"
   ]
  },
  {
   "cell_type": "code",
   "execution_count": 8,
   "id": "d6f0d684",
   "metadata": {},
   "outputs": [
    {
     "data": {
      "text/plain": [
       "datetime    datetime64[ns]\n",
       "ticker              object\n",
       "open               float64\n",
       "close              float64\n",
       "high               float64\n",
       "low                float64\n",
       "volume             float64\n",
       "dtype: object"
      ]
     },
     "execution_count": 8,
     "metadata": {},
     "output_type": "execute_result"
    }
   ],
   "source": [
    "dataset.dtypes"
   ]
  },
  {
   "cell_type": "markdown",
   "id": "386a9e4e",
   "metadata": {},
   "source": [
    "efectivamente se ve el cambio del formato en la feature datetime"
   ]
  },
  {
   "cell_type": "code",
   "execution_count": 9,
   "id": "f2cc372f",
   "metadata": {},
   "outputs": [],
   "source": [
    "dataset['year'] = dataset['datetime'].dt.year\n",
    "dataset['month'] = dataset['datetime'].dt.month"
   ]
  },
  {
   "cell_type": "markdown",
   "id": "d293b1c8",
   "metadata": {},
   "source": [
    "se agregan las columnas de mes y año"
   ]
  },
  {
   "cell_type": "code",
   "execution_count": 10,
   "id": "d8b2e599",
   "metadata": {},
   "outputs": [
    {
     "name": "stdout",
     "output_type": "stream",
     "text": [
      "    datetime ticker    open   close    high     low    volume  year  month\n",
      "0 1994-07-04  ACE 3   48.00   48.00   48.00   47.00   46550.0  1994      7\n",
      "1 1994-07-04  ALP 3  155.27  156.00  156.00  155.27  163405.8  1994      7\n",
      "2 1994-07-04  ALP 4  131.00  131.00  131.00  131.00    6550.0  1994      7\n",
      "3 1994-07-04  IBP 6  600.00  600.00  600.00  600.00    7800.0  1994      7\n",
      "4 1994-07-04  AQT 4    0.89    0.99    0.99    0.85   13137.0  1994      7\n"
     ]
    }
   ],
   "source": [
    "print(dataset.head(5))"
   ]
  },
  {
   "cell_type": "code",
   "execution_count": 11,
   "id": "ff67c817",
   "metadata": {},
   "outputs": [
    {
     "data": {
      "text/plain": [
       "datetime    0\n",
       "ticker      0\n",
       "open        0\n",
       "close       0\n",
       "high        0\n",
       "low         0\n",
       "volume      0\n",
       "year        0\n",
       "month       0\n",
       "dtype: int64"
      ]
     },
     "execution_count": 11,
     "metadata": {},
     "output_type": "execute_result"
    }
   ],
   "source": [
    "dataset.isnull().sum()"
   ]
  },
  {
   "cell_type": "markdown",
   "id": "6d107621",
   "metadata": {},
   "source": [
    "no exixten valores nulos en el Dataset"
   ]
  },
  {
   "cell_type": "code",
   "execution_count": 12,
   "id": "eda1b47c",
   "metadata": {},
   "outputs": [
    {
     "data": {
      "text/plain": [
       "0"
      ]
     },
     "execution_count": 12,
     "metadata": {},
     "output_type": "execute_result"
    }
   ],
   "source": [
    "dataset.duplicated().sum()"
   ]
  },
  {
   "cell_type": "markdown",
   "id": "eb2938dd",
   "metadata": {},
   "source": [
    "tampoco hay duplicados"
   ]
  },
  {
   "cell_type": "code",
   "execution_count": 13,
   "id": "a51c9ea6",
   "metadata": {},
   "outputs": [],
   "source": [
    "data_group_year = dataset.groupby(['year']).sum().sort_values('year',ascending=False)\n",
    "data_group_year = data_group_year.reset_index(drop=False)\n"
   ]
  },
  {
   "cell_type": "code",
   "execution_count": 14,
   "id": "a6705054",
   "metadata": {},
   "outputs": [
    {
     "data": {
      "text/plain": [
       "<matplotlib.legend.Legend at 0x21391be9eb0>"
      ]
     },
     "execution_count": 14,
     "metadata": {},
     "output_type": "execute_result"
    },
    {
     "data": {
      "image/png": "[encoded data removed]",
      "text/plain": [
       "<Figure size 1080x432 with 1 Axes>"
      ]
     },
     "metadata": {
      "needs_background": "light"
     },
     "output_type": "display_data"
    }
   ],
   "source": [
    "plt.figure(figsize=(15, 6))\n",
    "plt.subplot(2, 1, 1)\n",
    "plt.plot(data_group_year['year'], data_group_year['volume'],label = 'open', linestyle='-', color='g')\n",
    "plt.title('cantidad de operaciones del indice  Ibovespa  en diferentes años')\n",
    "plt.legend()"
   ]
  },
  {
   "cell_type": "markdown",
   "id": "b7b66ff5",
   "metadata": {},
   "source": [
    "se observa un comportamiento creciente de la cantidad de operaciones diarias a travez de los años con mas relevancio despues del 2015"
   ]
  },
  {
   "cell_type": "markdown",
   "id": "b6486944",
   "metadata": {},
   "source": [
    "## Selección de la acción"
   ]
  },
  {
   "cell_type": "code",
   "execution_count": 15,
   "id": "e2d1f1e1",
   "metadata": {},
   "outputs": [
    {
     "data": {
      "text/html": [
       "<div>\n",
       "<style scoped>\n",
       "    .dataframe tbody tr th:only-of-type {\n",
       "        vertical-align: middle;\n",
       "    }\n",
       "\n",
       "    .dataframe tbody tr th {\n",
       "        vertical-align: top;\n",
       "    }\n",
       "\n",
       "    .dataframe thead th {\n",
       "        text-align: right;\n",
       "    }\n",
       "</style>\n",
       "<table border=\"1\" class=\"dataframe\">\n",
       "  <thead>\n",
       "    <tr style=\"text-align: right;\">\n",
       "      <th></th>\n",
       "      <th>datetime</th>\n",
       "      <th>open</th>\n",
       "      <th>close</th>\n",
       "      <th>high</th>\n",
       "      <th>low</th>\n",
       "      <th>volume</th>\n",
       "      <th>year</th>\n",
       "      <th>month</th>\n",
       "    </tr>\n",
       "    <tr>\n",
       "      <th>ticker</th>\n",
       "      <th></th>\n",
       "      <th></th>\n",
       "      <th></th>\n",
       "      <th></th>\n",
       "      <th></th>\n",
       "      <th></th>\n",
       "      <th></th>\n",
       "      <th></th>\n",
       "    </tr>\n",
       "  </thead>\n",
       "  <tbody>\n",
       "    <tr>\n",
       "      <th>BBDC4</th>\n",
       "      <td>5641</td>\n",
       "      <td>5641</td>\n",
       "      <td>5641</td>\n",
       "      <td>5641</td>\n",
       "      <td>5641</td>\n",
       "      <td>5641</td>\n",
       "      <td>5641</td>\n",
       "      <td>5641</td>\n",
       "    </tr>\n",
       "    <tr>\n",
       "      <th>ELET6</th>\n",
       "      <td>5641</td>\n",
       "      <td>5641</td>\n",
       "      <td>5641</td>\n",
       "      <td>5641</td>\n",
       "      <td>5641</td>\n",
       "      <td>5641</td>\n",
       "      <td>5641</td>\n",
       "      <td>5641</td>\n",
       "    </tr>\n",
       "    <tr>\n",
       "      <th>CPLE6</th>\n",
       "      <td>5641</td>\n",
       "      <td>5641</td>\n",
       "      <td>5641</td>\n",
       "      <td>5641</td>\n",
       "      <td>5641</td>\n",
       "      <td>5641</td>\n",
       "      <td>5641</td>\n",
       "      <td>5641</td>\n",
       "    </tr>\n",
       "    <tr>\n",
       "      <th>ELET3</th>\n",
       "      <td>5641</td>\n",
       "      <td>5641</td>\n",
       "      <td>5641</td>\n",
       "      <td>5641</td>\n",
       "      <td>5641</td>\n",
       "      <td>5641</td>\n",
       "      <td>5641</td>\n",
       "      <td>5641</td>\n",
       "    </tr>\n",
       "    <tr>\n",
       "      <th>SBSP3</th>\n",
       "      <td>5641</td>\n",
       "      <td>5641</td>\n",
       "      <td>5641</td>\n",
       "      <td>5641</td>\n",
       "      <td>5641</td>\n",
       "      <td>5641</td>\n",
       "      <td>5641</td>\n",
       "      <td>5641</td>\n",
       "    </tr>\n",
       "    <tr>\n",
       "      <th>...</th>\n",
       "      <td>...</td>\n",
       "      <td>...</td>\n",
       "      <td>...</td>\n",
       "      <td>...</td>\n",
       "      <td>...</td>\n",
       "      <td>...</td>\n",
       "      <td>...</td>\n",
       "      <td>...</td>\n",
       "    </tr>\n",
       "    <tr>\n",
       "      <th>CJS 3</th>\n",
       "      <td>1</td>\n",
       "      <td>1</td>\n",
       "      <td>1</td>\n",
       "      <td>1</td>\n",
       "      <td>1</td>\n",
       "      <td>1</td>\n",
       "      <td>1</td>\n",
       "      <td>1</td>\n",
       "    </tr>\n",
       "    <tr>\n",
       "      <th>BEP 6</th>\n",
       "      <td>1</td>\n",
       "      <td>1</td>\n",
       "      <td>1</td>\n",
       "      <td>1</td>\n",
       "      <td>1</td>\n",
       "      <td>1</td>\n",
       "      <td>1</td>\n",
       "      <td>1</td>\n",
       "    </tr>\n",
       "    <tr>\n",
       "      <th>TBAS4</th>\n",
       "      <td>1</td>\n",
       "      <td>1</td>\n",
       "      <td>1</td>\n",
       "      <td>1</td>\n",
       "      <td>1</td>\n",
       "      <td>1</td>\n",
       "      <td>1</td>\n",
       "      <td>1</td>\n",
       "    </tr>\n",
       "    <tr>\n",
       "      <th>PPA 3</th>\n",
       "      <td>1</td>\n",
       "      <td>1</td>\n",
       "      <td>1</td>\n",
       "      <td>1</td>\n",
       "      <td>1</td>\n",
       "      <td>1</td>\n",
       "      <td>1</td>\n",
       "      <td>1</td>\n",
       "    </tr>\n",
       "    <tr>\n",
       "      <th>I1QY34</th>\n",
       "      <td>1</td>\n",
       "      <td>1</td>\n",
       "      <td>1</td>\n",
       "      <td>1</td>\n",
       "      <td>1</td>\n",
       "      <td>1</td>\n",
       "      <td>1</td>\n",
       "      <td>1</td>\n",
       "    </tr>\n",
       "  </tbody>\n",
       "</table>\n",
       "<p>3397 rows × 8 columns</p>\n",
       "</div>"
      ],
      "text/plain": [
       "        datetime  open  close  high   low  volume  year  month\n",
       "ticker                                                        \n",
       "BBDC4       5641  5641   5641  5641  5641    5641  5641   5641\n",
       "ELET6       5641  5641   5641  5641  5641    5641  5641   5641\n",
       "CPLE6       5641  5641   5641  5641  5641    5641  5641   5641\n",
       "ELET3       5641  5641   5641  5641  5641    5641  5641   5641\n",
       "SBSP3       5641  5641   5641  5641  5641    5641  5641   5641\n",
       "...          ...   ...    ...   ...   ...     ...   ...    ...\n",
       "CJS 3          1     1      1     1     1       1     1      1\n",
       "BEP 6          1     1      1     1     1       1     1      1\n",
       "TBAS4          1     1      1     1     1       1     1      1\n",
       "PPA 3          1     1      1     1     1       1     1      1\n",
       "I1QY34         1     1      1     1     1       1     1      1\n",
       "\n",
       "[3397 rows x 8 columns]"
      ]
     },
     "execution_count": 15,
     "metadata": {},
     "output_type": "execute_result"
    }
   ],
   "source": [
    "dataset.groupby(['ticker']).count().sort_values('open',ascending=False)"
   ]
  },
  {
   "cell_type": "markdown",
   "id": "1110e8d6",
   "metadata": {},
   "source": [
    "se escoge la acción BBDC4 dado que tiene mayor número de registros a lo largo del tiempo"
   ]
  },
  {
   "cell_type": "markdown",
   "id": "7e491ee6",
   "metadata": {},
   "source": [
    "## EDA de acción BBDC4"
   ]
  },
  {
   "cell_type": "code",
   "execution_count": 16,
   "id": "71514fac",
   "metadata": {},
   "outputs": [
    {
     "data": {
      "text/html": [
       "<div>\n",
       "<style scoped>\n",
       "    .dataframe tbody tr th:only-of-type {\n",
       "        vertical-align: middle;\n",
       "    }\n",
       "\n",
       "    .dataframe tbody tr th {\n",
       "        vertical-align: top;\n",
       "    }\n",
       "\n",
       "    .dataframe thead th {\n",
       "        text-align: right;\n",
       "    }\n",
       "</style>\n",
       "<table border=\"1\" class=\"dataframe\">\n",
       "  <thead>\n",
       "    <tr style=\"text-align: right;\">\n",
       "      <th></th>\n",
       "      <th>datetime</th>\n",
       "      <th>ticker</th>\n",
       "      <th>open</th>\n",
       "      <th>close</th>\n",
       "      <th>high</th>\n",
       "      <th>low</th>\n",
       "      <th>volume</th>\n",
       "      <th>year</th>\n",
       "      <th>month</th>\n",
       "    </tr>\n",
       "  </thead>\n",
       "  <tbody>\n",
       "    <tr>\n",
       "      <th>0</th>\n",
       "      <td>1998-03-16</td>\n",
       "      <td>BBDC4</td>\n",
       "      <td>10.90</td>\n",
       "      <td>10.95</td>\n",
       "      <td>10.95</td>\n",
       "      <td>10.65</td>\n",
       "      <td>8.684946e+06</td>\n",
       "      <td>1998</td>\n",
       "      <td>3</td>\n",
       "    </tr>\n",
       "    <tr>\n",
       "      <th>1</th>\n",
       "      <td>1998-03-17</td>\n",
       "      <td>BBDC4</td>\n",
       "      <td>10.89</td>\n",
       "      <td>11.20</td>\n",
       "      <td>11.20</td>\n",
       "      <td>10.89</td>\n",
       "      <td>1.458141e+07</td>\n",
       "      <td>1998</td>\n",
       "      <td>3</td>\n",
       "    </tr>\n",
       "    <tr>\n",
       "      <th>2</th>\n",
       "      <td>1998-03-18</td>\n",
       "      <td>BBDC4</td>\n",
       "      <td>11.10</td>\n",
       "      <td>11.10</td>\n",
       "      <td>11.35</td>\n",
       "      <td>11.10</td>\n",
       "      <td>1.065082e+07</td>\n",
       "      <td>1998</td>\n",
       "      <td>3</td>\n",
       "    </tr>\n",
       "    <tr>\n",
       "      <th>3</th>\n",
       "      <td>1998-03-19</td>\n",
       "      <td>BBDC4</td>\n",
       "      <td>11.20</td>\n",
       "      <td>11.20</td>\n",
       "      <td>11.25</td>\n",
       "      <td>11.08</td>\n",
       "      <td>1.043042e+07</td>\n",
       "      <td>1998</td>\n",
       "      <td>3</td>\n",
       "    </tr>\n",
       "    <tr>\n",
       "      <th>4</th>\n",
       "      <td>1998-03-20</td>\n",
       "      <td>BBDC4</td>\n",
       "      <td>11.20</td>\n",
       "      <td>11.80</td>\n",
       "      <td>11.80</td>\n",
       "      <td>11.20</td>\n",
       "      <td>8.596442e+06</td>\n",
       "      <td>1998</td>\n",
       "      <td>3</td>\n",
       "    </tr>\n",
       "    <tr>\n",
       "      <th>...</th>\n",
       "      <td>...</td>\n",
       "      <td>...</td>\n",
       "      <td>...</td>\n",
       "      <td>...</td>\n",
       "      <td>...</td>\n",
       "      <td>...</td>\n",
       "      <td>...</td>\n",
       "      <td>...</td>\n",
       "      <td>...</td>\n",
       "    </tr>\n",
       "    <tr>\n",
       "      <th>5636</th>\n",
       "      <td>2020-12-22</td>\n",
       "      <td>BBDC4</td>\n",
       "      <td>26.76</td>\n",
       "      <td>27.10</td>\n",
       "      <td>27.25</td>\n",
       "      <td>26.76</td>\n",
       "      <td>8.619520e+08</td>\n",
       "      <td>2020</td>\n",
       "      <td>12</td>\n",
       "    </tr>\n",
       "    <tr>\n",
       "      <th>5637</th>\n",
       "      <td>2020-12-23</td>\n",
       "      <td>BBDC4</td>\n",
       "      <td>27.32</td>\n",
       "      <td>27.72</td>\n",
       "      <td>27.90</td>\n",
       "      <td>27.16</td>\n",
       "      <td>7.282858e+08</td>\n",
       "      <td>2020</td>\n",
       "      <td>12</td>\n",
       "    </tr>\n",
       "    <tr>\n",
       "      <th>5638</th>\n",
       "      <td>2020-12-28</td>\n",
       "      <td>BBDC4</td>\n",
       "      <td>28.10</td>\n",
       "      <td>27.99</td>\n",
       "      <td>28.26</td>\n",
       "      <td>27.92</td>\n",
       "      <td>1.052361e+09</td>\n",
       "      <td>2020</td>\n",
       "      <td>12</td>\n",
       "    </tr>\n",
       "    <tr>\n",
       "      <th>5639</th>\n",
       "      <td>2020-12-29</td>\n",
       "      <td>BBDC4</td>\n",
       "      <td>27.82</td>\n",
       "      <td>27.53</td>\n",
       "      <td>27.88</td>\n",
       "      <td>27.37</td>\n",
       "      <td>6.109755e+08</td>\n",
       "      <td>2020</td>\n",
       "      <td>12</td>\n",
       "    </tr>\n",
       "    <tr>\n",
       "      <th>5640</th>\n",
       "      <td>2020-12-30</td>\n",
       "      <td>BBDC4</td>\n",
       "      <td>27.63</td>\n",
       "      <td>27.14</td>\n",
       "      <td>27.74</td>\n",
       "      <td>27.14</td>\n",
       "      <td>6.027872e+08</td>\n",
       "      <td>2020</td>\n",
       "      <td>12</td>\n",
       "    </tr>\n",
       "  </tbody>\n",
       "</table>\n",
       "<p>5641 rows × 9 columns</p>\n",
       "</div>"
      ],
      "text/plain": [
       "       datetime ticker   open  close   high    low        volume  year  month\n",
       "0    1998-03-16  BBDC4  10.90  10.95  10.95  10.65  8.684946e+06  1998      3\n",
       "1    1998-03-17  BBDC4  10.89  11.20  11.20  10.89  1.458141e+07  1998      3\n",
       "2    1998-03-18  BBDC4  11.10  11.10  11.35  11.10  1.065082e+07  1998      3\n",
       "3    1998-03-19  BBDC4  11.20  11.20  11.25  11.08  1.043042e+07  1998      3\n",
       "4    1998-03-20  BBDC4  11.20  11.80  11.80  11.20  8.596442e+06  1998      3\n",
       "...         ...    ...    ...    ...    ...    ...           ...   ...    ...\n",
       "5636 2020-12-22  BBDC4  26.76  27.10  27.25  26.76  8.619520e+08  2020     12\n",
       "5637 2020-12-23  BBDC4  27.32  27.72  27.90  27.16  7.282858e+08  2020     12\n",
       "5638 2020-12-28  BBDC4  28.10  27.99  28.26  27.92  1.052361e+09  2020     12\n",
       "5639 2020-12-29  BBDC4  27.82  27.53  27.88  27.37  6.109755e+08  2020     12\n",
       "5640 2020-12-30  BBDC4  27.63  27.14  27.74  27.14  6.027872e+08  2020     12\n",
       "\n",
       "[5641 rows x 9 columns]"
      ]
     },
     "execution_count": 16,
     "metadata": {},
     "output_type": "execute_result"
    }
   ],
   "source": [
    "data_stock = dataset[dataset.ticker.isin(['BBDC4'])]\n",
    "data_stock  = data_stock .reset_index(drop=True)\n",
    "data_stock"
   ]
  },
  {
   "cell_type": "markdown",
   "id": "00ca1609",
   "metadata": {},
   "source": [
    "se extraen los datos solo de la acción escogida en la que se tienen 5641 registros desde 1994 hasta 2020."
   ]
  },
  {
   "cell_type": "code",
   "execution_count": 17,
   "id": "88e5f927",
   "metadata": {},
   "outputs": [
    {
     "data": {
      "text/html": [
       "<div>\n",
       "<style scoped>\n",
       "    .dataframe tbody tr th:only-of-type {\n",
       "        vertical-align: middle;\n",
       "    }\n",
       "\n",
       "    .dataframe tbody tr th {\n",
       "        vertical-align: top;\n",
       "    }\n",
       "\n",
       "    .dataframe thead th {\n",
       "        text-align: right;\n",
       "    }\n",
       "</style>\n",
       "<table border=\"1\" class=\"dataframe\">\n",
       "  <thead>\n",
       "    <tr style=\"text-align: right;\">\n",
       "      <th></th>\n",
       "      <th>open</th>\n",
       "      <th>close</th>\n",
       "      <th>high</th>\n",
       "      <th>low</th>\n",
       "      <th>volume</th>\n",
       "      <th>year</th>\n",
       "      <th>month</th>\n",
       "    </tr>\n",
       "  </thead>\n",
       "  <tbody>\n",
       "    <tr>\n",
       "      <th>count</th>\n",
       "      <td>5641.000000</td>\n",
       "      <td>5641.000000</td>\n",
       "      <td>5641.000000</td>\n",
       "      <td>5641.000000</td>\n",
       "      <td>5.641000e+03</td>\n",
       "      <td>5641.000000</td>\n",
       "      <td>5641.000000</td>\n",
       "    </tr>\n",
       "    <tr>\n",
       "      <th>mean</th>\n",
       "      <td>35.287493</td>\n",
       "      <td>35.297172</td>\n",
       "      <td>35.782636</td>\n",
       "      <td>34.768580</td>\n",
       "      <td>2.081130e+08</td>\n",
       "      <td>2009.095373</td>\n",
       "      <td>6.548307</td>\n",
       "    </tr>\n",
       "    <tr>\n",
       "      <th>std</th>\n",
       "      <td>28.787841</td>\n",
       "      <td>28.851425</td>\n",
       "      <td>29.184685</td>\n",
       "      <td>28.459273</td>\n",
       "      <td>2.601502e+08</td>\n",
       "      <td>6.581064</td>\n",
       "      <td>3.398036</td>\n",
       "    </tr>\n",
       "    <tr>\n",
       "      <th>min</th>\n",
       "      <td>4.700000</td>\n",
       "      <td>4.750000</td>\n",
       "      <td>5.500000</td>\n",
       "      <td>4.650000</td>\n",
       "      <td>6.241017e+05</td>\n",
       "      <td>1998.000000</td>\n",
       "      <td>1.000000</td>\n",
       "    </tr>\n",
       "    <tr>\n",
       "      <th>25%</th>\n",
       "      <td>15.150000</td>\n",
       "      <td>15.100000</td>\n",
       "      <td>15.400000</td>\n",
       "      <td>14.900000</td>\n",
       "      <td>2.893243e+07</td>\n",
       "      <td>2003.000000</td>\n",
       "      <td>4.000000</td>\n",
       "    </tr>\n",
       "    <tr>\n",
       "      <th>50%</th>\n",
       "      <td>30.410000</td>\n",
       "      <td>30.400000</td>\n",
       "      <td>30.790000</td>\n",
       "      <td>30.050000</td>\n",
       "      <td>1.377260e+08</td>\n",
       "      <td>2009.000000</td>\n",
       "      <td>7.000000</td>\n",
       "    </tr>\n",
       "    <tr>\n",
       "      <th>75%</th>\n",
       "      <td>36.150000</td>\n",
       "      <td>36.130000</td>\n",
       "      <td>36.520000</td>\n",
       "      <td>35.680000</td>\n",
       "      <td>2.639294e+08</td>\n",
       "      <td>2015.000000</td>\n",
       "      <td>9.000000</td>\n",
       "    </tr>\n",
       "    <tr>\n",
       "      <th>max</th>\n",
       "      <td>196.890000</td>\n",
       "      <td>203.200000</td>\n",
       "      <td>204.430000</td>\n",
       "      <td>196.000000</td>\n",
       "      <td>3.259748e+09</td>\n",
       "      <td>2020.000000</td>\n",
       "      <td>12.000000</td>\n",
       "    </tr>\n",
       "  </tbody>\n",
       "</table>\n",
       "</div>"
      ],
      "text/plain": [
       "              open        close         high          low        volume  \\\n",
       "count  5641.000000  5641.000000  5641.000000  5641.000000  5.641000e+03   \n",
       "mean     35.287493    35.297172    35.782636    34.768580  2.081130e+08   \n",
       "std      28.787841    28.851425    29.184685    28.459273  2.601502e+08   \n",
       "min       4.700000     4.750000     5.500000     4.650000  6.241017e+05   \n",
       "25%      15.150000    15.100000    15.400000    14.900000  2.893243e+07   \n",
       "50%      30.410000    30.400000    30.790000    30.050000  1.377260e+08   \n",
       "75%      36.150000    36.130000    36.520000    35.680000  2.639294e+08   \n",
       "max     196.890000   203.200000   204.430000   196.000000  3.259748e+09   \n",
       "\n",
       "              year        month  \n",
       "count  5641.000000  5641.000000  \n",
       "mean   2009.095373     6.548307  \n",
       "std       6.581064     3.398036  \n",
       "min    1998.000000     1.000000  \n",
       "25%    2003.000000     4.000000  \n",
       "50%    2009.000000     7.000000  \n",
       "75%    2015.000000     9.000000  \n",
       "max    2020.000000    12.000000  "
      ]
     },
     "execution_count": 17,
     "metadata": {},
     "output_type": "execute_result"
    }
   ],
   "source": [
    "data_stock.describe()"
   ]
  },
  {
   "cell_type": "markdown",
   "id": "0309f7a0",
   "metadata": {},
   "source": [
    "en promedio la acción a lo largo de los años está en 35.2, el mínimo 15.15 y el máximo en 196, este último está muy lejos del tercer cuartil por lo que hay que analizar el comportamiento a lo largo del tiempo para determinar si este valor afecta los valores para el modelo.\n",
    "\n",
    "no hay grandes diferencias entre los valores de open,close,high, por lo que se puede analizar datos con una de estas features y así evitar realizar tantos análisis que nos lleven a la misma conclusión.\n"
   ]
  },
  {
   "cell_type": "code",
   "execution_count": 18,
   "id": "53a8f322",
   "metadata": {},
   "outputs": [
    {
     "data": {
      "text/plain": [
       "<matplotlib.legend.Legend at 0x213932fe970>"
      ]
     },
     "execution_count": 18,
     "metadata": {},
     "output_type": "execute_result"
    },
    {
     "data": {
      "image/png": "[encoded data removed]",
      "text/plain": [
       "<Figure size 1080x432 with 2 Axes>"
      ]
     },
     "metadata": {
      "needs_background": "light"
     },
     "output_type": "display_data"
    }
   ],
   "source": [
    "plt.figure(figsize=(15, 6))\n",
    "plt.subplot(2, 1, 1)\n",
    "plt.plot(data_stock['datetime'], data_stock['open'],label = 'open', linestyle='-', color='b')\n",
    "plt.title('Comportamiento Apertura de stock BBDC4 en diferentes años')\n",
    "plt.legend()\n",
    "plt.subplot(2, 1, 2)\n",
    "plt.plot(data_stock['datetime'], data_stock['volume'],label = 'volume', linestyle='-', color='r')\n",
    "plt.title('Volumen de stock BBDC4 en diferentes años')\n",
    "plt.legend()"
   ]
  },
  {
   "cell_type": "markdown",
   "id": "1a633ae6",
   "metadata": {},
   "source": [
    "se puede apreciar valores de la acción muy altos en el año 2005 aproximadamente, se debe revisar con más detenimiento."
   ]
  },
  {
   "cell_type": "code",
   "execution_count": 19,
   "id": "b7861d8f",
   "metadata": {},
   "outputs": [
    {
     "data": {
      "image/png": "[encoded data removed]",
      "text/plain": [
       "<Figure size 1080x432 with 2 Axes>"
      ]
     },
     "metadata": {
      "needs_background": "light"
     },
     "output_type": "display_data"
    }
   ],
   "source": [
    "\n",
    "\n",
    "group_stock=data_stock.groupby('year').agg(['count','mean']).reset_index()\n",
    "\n",
    "#renombrando columnas\n",
    "group_stock.columns = ['year','open_count','open_mean','close_count','close_mean','high_count','high_mean','low_count','low_mean','volume_count','volume_mean','month_count','month_mean']\n",
    "#fig, ax = plt.subplots()\n",
    "plt.figure(figsize=(15, 6))\n",
    "\n",
    "plt.subplot(2, 1, 1)\n",
    "plt.plot(group_stock['year'], group_stock['open_count'],label = 'number of days of operation', marker='o', linestyle='-', color='b')\n",
    "plt.plot(group_stock['year'], group_stock['open_mean'],label = 'open_mean', marker='o', linestyle='-', color='r')\n",
    "plt.title('Apertura de stock BBDC4 en diferentes años')\n",
    "plt.legend()\n",
    "\n",
    "plt.subplot(2, 1, 2)\n",
    "plt.plot(group_stock['year'], group_stock['volume_mean'],label = 'volume_mean', marker='o', linestyle='-', color='r')\n",
    "plt.title('Volumen de stock BBDC4 en diferentes años')\n",
    "plt.legend()\n",
    "\n",
    "plt.show()"
   ]
  },
  {
   "cell_type": "markdown",
   "id": "58a1cbcf",
   "metadata": {},
   "source": [
    "en la media de cada año de la apertura de la acción se observa que en el 2005 ocurrió un comportamiento extraño hay que seguir indagando."
   ]
  },
  {
   "cell_type": "markdown",
   "id": "391faa4b",
   "metadata": {},
   "source": [
    "## Análisis de valores atípicos"
   ]
  },
  {
   "cell_type": "markdown",
   "id": "3149d376",
   "metadata": {},
   "source": [
    "Realizando diagrama de Boxplot para la apertura de la acción"
   ]
  },
  {
   "cell_type": "code",
   "execution_count": 20,
   "id": "0e658b30",
   "metadata": {},
   "outputs": [
    {
     "data": {
      "image/png": "[encoded data removed]",
      "text/plain": [
       "<Figure size 1080x432 with 1 Axes>"
      ]
     },
     "metadata": {
      "needs_background": "light"
     },
     "output_type": "display_data"
    },
    {
     "name": "stdout",
     "output_type": "stream",
     "text": [
      "la media de open es:  35.28749335224262\n"
     ]
    }
   ],
   "source": [
    "\n",
    "plt.figure(figsize=(15, 6))  # Tamaño de la figura (ancho x alto)\n",
    "plt.boxplot(data_stock['open'], vert=False)  # 'Columna_de_interés' representa los datos que quieres visualizar\n",
    "\n",
    "# Personalizar el gráfico\n",
    "plt.title('Comportamiento Apertura de stock BBDC4')\n",
    "plt.xlabel('open')\n",
    "plt.ylabel('Valor de la acccion')\n",
    "plt.grid(True)  # Mostrar cuadrícula\n",
    "\n",
    "# Mostrar el gráfico\n",
    "plt.show()\n",
    "print('la media de open es: ',data_stock['open'].mean())"
   ]
  },
  {
   "cell_type": "markdown",
   "id": "9b67337f",
   "metadata": {},
   "source": [
    "se ven muchos valores atípicos por encima de 100 hay que revisar con mayor detenimiento cada una de las features de los precios, para eso se realizaran histogramas."
   ]
  },
  {
   "cell_type": "code",
   "execution_count": 21,
   "id": "ef2ca3d6",
   "metadata": {},
   "outputs": [
    {
     "data": {
      "image/png": "[encoded data removed]",
      "text/plain": [
       "<Figure size 1080x432 with 4 Axes>"
      ]
     },
     "metadata": {
      "needs_background": "light"
     },
     "output_type": "display_data"
    }
   ],
   "source": [
    "plt.figure(figsize=(15, 6))\n",
    "plt.subplot(2, 2, 1)\n",
    "data_stock.open.hist(bins=40)\n",
    "plt.title('open')\n",
    "plt.subplot(2, 2, 2)\n",
    "data_stock.close.hist(bins=40)\n",
    "plt.title('close')\n",
    "plt.subplot(2, 2, 3)\n",
    "data_stock.high.hist(bins=40)\n",
    "plt.title('high')\n",
    "plt.subplot(2, 2, 4)\n",
    "data_stock.low.hist(bins=40)\n",
    "plt.title('low')\n",
    "plt.show()"
   ]
  },
  {
   "cell_type": "markdown",
   "id": "2978d499",
   "metadata": {},
   "source": [
    "se ve un comportamiento muy similar entre apertura, cierre, altos y bajos, parece haber pocos valore atípicos por encima de 100 los examinaremos con detenimiento."
   ]
  },
  {
   "cell_type": "code",
   "execution_count": 22,
   "id": "fa1c8e85",
   "metadata": {},
   "outputs": [
    {
     "data": {
      "text/html": [
       "<div>\n",
       "<style scoped>\n",
       "    .dataframe tbody tr th:only-of-type {\n",
       "        vertical-align: middle;\n",
       "    }\n",
       "\n",
       "    .dataframe tbody tr th {\n",
       "        vertical-align: top;\n",
       "    }\n",
       "\n",
       "    .dataframe thead th {\n",
       "        text-align: right;\n",
       "    }\n",
       "</style>\n",
       "<table border=\"1\" class=\"dataframe\">\n",
       "  <thead>\n",
       "    <tr style=\"text-align: right;\">\n",
       "      <th></th>\n",
       "      <th>datetime</th>\n",
       "      <th>ticker</th>\n",
       "      <th>open</th>\n",
       "      <th>close</th>\n",
       "      <th>high</th>\n",
       "      <th>low</th>\n",
       "      <th>volume</th>\n",
       "      <th>year</th>\n",
       "      <th>month</th>\n",
       "    </tr>\n",
       "  </thead>\n",
       "  <tbody>\n",
       "    <tr>\n",
       "      <th>1489</th>\n",
       "      <td>2004-03-22</td>\n",
       "      <td>BBDC4</td>\n",
       "      <td>141.03</td>\n",
       "      <td>139.20</td>\n",
       "      <td>143.00</td>\n",
       "      <td>139.02</td>\n",
       "      <td>27895470.0</td>\n",
       "      <td>2004</td>\n",
       "      <td>3</td>\n",
       "    </tr>\n",
       "    <tr>\n",
       "      <th>1490</th>\n",
       "      <td>2004-03-23</td>\n",
       "      <td>BBDC4</td>\n",
       "      <td>139.10</td>\n",
       "      <td>137.90</td>\n",
       "      <td>141.00</td>\n",
       "      <td>136.50</td>\n",
       "      <td>20687160.0</td>\n",
       "      <td>2004</td>\n",
       "      <td>3</td>\n",
       "    </tr>\n",
       "    <tr>\n",
       "      <th>1491</th>\n",
       "      <td>2004-03-24</td>\n",
       "      <td>BBDC4</td>\n",
       "      <td>139.00</td>\n",
       "      <td>135.02</td>\n",
       "      <td>139.00</td>\n",
       "      <td>135.00</td>\n",
       "      <td>25067888.0</td>\n",
       "      <td>2004</td>\n",
       "      <td>3</td>\n",
       "    </tr>\n",
       "    <tr>\n",
       "      <th>1492</th>\n",
       "      <td>2004-03-25</td>\n",
       "      <td>BBDC4</td>\n",
       "      <td>135.02</td>\n",
       "      <td>134.50</td>\n",
       "      <td>136.50</td>\n",
       "      <td>134.50</td>\n",
       "      <td>20086418.0</td>\n",
       "      <td>2004</td>\n",
       "      <td>3</td>\n",
       "    </tr>\n",
       "    <tr>\n",
       "      <th>1493</th>\n",
       "      <td>2004-03-26</td>\n",
       "      <td>BBDC4</td>\n",
       "      <td>135.00</td>\n",
       "      <td>135.35</td>\n",
       "      <td>137.50</td>\n",
       "      <td>135.00</td>\n",
       "      <td>14574644.0</td>\n",
       "      <td>2004</td>\n",
       "      <td>3</td>\n",
       "    </tr>\n",
       "    <tr>\n",
       "      <th>...</th>\n",
       "      <td>...</td>\n",
       "      <td>...</td>\n",
       "      <td>...</td>\n",
       "      <td>...</td>\n",
       "      <td>...</td>\n",
       "      <td>...</td>\n",
       "      <td>...</td>\n",
       "      <td>...</td>\n",
       "      <td>...</td>\n",
       "    </tr>\n",
       "    <tr>\n",
       "      <th>1902</th>\n",
       "      <td>2005-11-16</td>\n",
       "      <td>BBDC4</td>\n",
       "      <td>127.01</td>\n",
       "      <td>127.20</td>\n",
       "      <td>127.80</td>\n",
       "      <td>126.50</td>\n",
       "      <td>50786477.0</td>\n",
       "      <td>2005</td>\n",
       "      <td>11</td>\n",
       "    </tr>\n",
       "    <tr>\n",
       "      <th>1903</th>\n",
       "      <td>2005-11-17</td>\n",
       "      <td>BBDC4</td>\n",
       "      <td>127.20</td>\n",
       "      <td>128.00</td>\n",
       "      <td>128.55</td>\n",
       "      <td>126.32</td>\n",
       "      <td>85010951.0</td>\n",
       "      <td>2005</td>\n",
       "      <td>11</td>\n",
       "    </tr>\n",
       "    <tr>\n",
       "      <th>1904</th>\n",
       "      <td>2005-11-18</td>\n",
       "      <td>BBDC4</td>\n",
       "      <td>128.50</td>\n",
       "      <td>127.20</td>\n",
       "      <td>128.50</td>\n",
       "      <td>126.01</td>\n",
       "      <td>53294686.0</td>\n",
       "      <td>2005</td>\n",
       "      <td>11</td>\n",
       "    </tr>\n",
       "    <tr>\n",
       "      <th>1905</th>\n",
       "      <td>2005-11-21</td>\n",
       "      <td>BBDC4</td>\n",
       "      <td>128.30</td>\n",
       "      <td>127.90</td>\n",
       "      <td>128.30</td>\n",
       "      <td>126.78</td>\n",
       "      <td>44597636.0</td>\n",
       "      <td>2005</td>\n",
       "      <td>11</td>\n",
       "    </tr>\n",
       "    <tr>\n",
       "      <th>1906</th>\n",
       "      <td>2005-11-22</td>\n",
       "      <td>BBDC4</td>\n",
       "      <td>127.46</td>\n",
       "      <td>132.00</td>\n",
       "      <td>132.29</td>\n",
       "      <td>125.50</td>\n",
       "      <td>80839920.0</td>\n",
       "      <td>2005</td>\n",
       "      <td>11</td>\n",
       "    </tr>\n",
       "  </tbody>\n",
       "</table>\n",
       "<p>236 rows × 9 columns</p>\n",
       "</div>"
      ],
      "text/plain": [
       "       datetime ticker    open   close    high     low      volume  year  \\\n",
       "1489 2004-03-22  BBDC4  141.03  139.20  143.00  139.02  27895470.0  2004   \n",
       "1490 2004-03-23  BBDC4  139.10  137.90  141.00  136.50  20687160.0  2004   \n",
       "1491 2004-03-24  BBDC4  139.00  135.02  139.00  135.00  25067888.0  2004   \n",
       "1492 2004-03-25  BBDC4  135.02  134.50  136.50  134.50  20086418.0  2004   \n",
       "1493 2004-03-26  BBDC4  135.00  135.35  137.50  135.00  14574644.0  2004   \n",
       "...         ...    ...     ...     ...     ...     ...         ...   ...   \n",
       "1902 2005-11-16  BBDC4  127.01  127.20  127.80  126.50  50786477.0  2005   \n",
       "1903 2005-11-17  BBDC4  127.20  128.00  128.55  126.32  85010951.0  2005   \n",
       "1904 2005-11-18  BBDC4  128.50  127.20  128.50  126.01  53294686.0  2005   \n",
       "1905 2005-11-21  BBDC4  128.30  127.90  128.30  126.78  44597636.0  2005   \n",
       "1906 2005-11-22  BBDC4  127.46  132.00  132.29  125.50  80839920.0  2005   \n",
       "\n",
       "      month  \n",
       "1489      3  \n",
       "1490      3  \n",
       "1491      3  \n",
       "1492      3  \n",
       "1493      3  \n",
       "...     ...  \n",
       "1902     11  \n",
       "1903     11  \n",
       "1904     11  \n",
       "1905     11  \n",
       "1906     11  \n",
       "\n",
       "[236 rows x 9 columns]"
      ]
     },
     "execution_count": 22,
     "metadata": {},
     "output_type": "execute_result"
    }
   ],
   "source": [
    "data_stock[data_stock.open>100]"
   ]
  },
  {
   "cell_type": "markdown",
   "id": "8ecad539",
   "metadata": {},
   "source": [
    "se tienen 236 registros por encima de 100 que equivalen al 4% de todas las operaciones de esta acción por lo que para este caso dada la baja proporción se procederá a eliminar para que el modelo obtenga mejores resultados."
   ]
  },
  {
   "cell_type": "code",
   "execution_count": 23,
   "id": "a4d93747",
   "metadata": {},
   "outputs": [
    {
     "data": {
      "text/html": [
       "<div>\n",
       "<style scoped>\n",
       "    .dataframe tbody tr th:only-of-type {\n",
       "        vertical-align: middle;\n",
       "    }\n",
       "\n",
       "    .dataframe tbody tr th {\n",
       "        vertical-align: top;\n",
       "    }\n",
       "\n",
       "    .dataframe thead th {\n",
       "        text-align: right;\n",
       "    }\n",
       "</style>\n",
       "<table border=\"1\" class=\"dataframe\">\n",
       "  <thead>\n",
       "    <tr style=\"text-align: right;\">\n",
       "      <th></th>\n",
       "      <th>datetime</th>\n",
       "      <th>ticker</th>\n",
       "      <th>open</th>\n",
       "      <th>close</th>\n",
       "      <th>high</th>\n",
       "      <th>low</th>\n",
       "      <th>volume</th>\n",
       "      <th>year</th>\n",
       "      <th>month</th>\n",
       "    </tr>\n",
       "  </thead>\n",
       "  <tbody>\n",
       "    <tr>\n",
       "      <th>0</th>\n",
       "      <td>1998-03-16</td>\n",
       "      <td>BBDC4</td>\n",
       "      <td>10.90</td>\n",
       "      <td>10.95</td>\n",
       "      <td>10.95</td>\n",
       "      <td>10.65</td>\n",
       "      <td>8.684946e+06</td>\n",
       "      <td>1998</td>\n",
       "      <td>3</td>\n",
       "    </tr>\n",
       "    <tr>\n",
       "      <th>1</th>\n",
       "      <td>1998-03-17</td>\n",
       "      <td>BBDC4</td>\n",
       "      <td>10.89</td>\n",
       "      <td>11.20</td>\n",
       "      <td>11.20</td>\n",
       "      <td>10.89</td>\n",
       "      <td>1.458141e+07</td>\n",
       "      <td>1998</td>\n",
       "      <td>3</td>\n",
       "    </tr>\n",
       "    <tr>\n",
       "      <th>2</th>\n",
       "      <td>1998-03-18</td>\n",
       "      <td>BBDC4</td>\n",
       "      <td>11.10</td>\n",
       "      <td>11.10</td>\n",
       "      <td>11.35</td>\n",
       "      <td>11.10</td>\n",
       "      <td>1.065082e+07</td>\n",
       "      <td>1998</td>\n",
       "      <td>3</td>\n",
       "    </tr>\n",
       "    <tr>\n",
       "      <th>3</th>\n",
       "      <td>1998-03-19</td>\n",
       "      <td>BBDC4</td>\n",
       "      <td>11.20</td>\n",
       "      <td>11.20</td>\n",
       "      <td>11.25</td>\n",
       "      <td>11.08</td>\n",
       "      <td>1.043042e+07</td>\n",
       "      <td>1998</td>\n",
       "      <td>3</td>\n",
       "    </tr>\n",
       "    <tr>\n",
       "      <th>4</th>\n",
       "      <td>1998-03-20</td>\n",
       "      <td>BBDC4</td>\n",
       "      <td>11.20</td>\n",
       "      <td>11.80</td>\n",
       "      <td>11.80</td>\n",
       "      <td>11.20</td>\n",
       "      <td>8.596442e+06</td>\n",
       "      <td>1998</td>\n",
       "      <td>3</td>\n",
       "    </tr>\n",
       "    <tr>\n",
       "      <th>...</th>\n",
       "      <td>...</td>\n",
       "      <td>...</td>\n",
       "      <td>...</td>\n",
       "      <td>...</td>\n",
       "      <td>...</td>\n",
       "      <td>...</td>\n",
       "      <td>...</td>\n",
       "      <td>...</td>\n",
       "      <td>...</td>\n",
       "    </tr>\n",
       "    <tr>\n",
       "      <th>5399</th>\n",
       "      <td>2020-12-22</td>\n",
       "      <td>BBDC4</td>\n",
       "      <td>26.76</td>\n",
       "      <td>27.10</td>\n",
       "      <td>27.25</td>\n",
       "      <td>26.76</td>\n",
       "      <td>8.619520e+08</td>\n",
       "      <td>2020</td>\n",
       "      <td>12</td>\n",
       "    </tr>\n",
       "    <tr>\n",
       "      <th>5400</th>\n",
       "      <td>2020-12-23</td>\n",
       "      <td>BBDC4</td>\n",
       "      <td>27.32</td>\n",
       "      <td>27.72</td>\n",
       "      <td>27.90</td>\n",
       "      <td>27.16</td>\n",
       "      <td>7.282858e+08</td>\n",
       "      <td>2020</td>\n",
       "      <td>12</td>\n",
       "    </tr>\n",
       "    <tr>\n",
       "      <th>5401</th>\n",
       "      <td>2020-12-28</td>\n",
       "      <td>BBDC4</td>\n",
       "      <td>28.10</td>\n",
       "      <td>27.99</td>\n",
       "      <td>28.26</td>\n",
       "      <td>27.92</td>\n",
       "      <td>1.052361e+09</td>\n",
       "      <td>2020</td>\n",
       "      <td>12</td>\n",
       "    </tr>\n",
       "    <tr>\n",
       "      <th>5402</th>\n",
       "      <td>2020-12-29</td>\n",
       "      <td>BBDC4</td>\n",
       "      <td>27.82</td>\n",
       "      <td>27.53</td>\n",
       "      <td>27.88</td>\n",
       "      <td>27.37</td>\n",
       "      <td>6.109755e+08</td>\n",
       "      <td>2020</td>\n",
       "      <td>12</td>\n",
       "    </tr>\n",
       "    <tr>\n",
       "      <th>5403</th>\n",
       "      <td>2020-12-30</td>\n",
       "      <td>BBDC4</td>\n",
       "      <td>27.63</td>\n",
       "      <td>27.14</td>\n",
       "      <td>27.74</td>\n",
       "      <td>27.14</td>\n",
       "      <td>6.027872e+08</td>\n",
       "      <td>2020</td>\n",
       "      <td>12</td>\n",
       "    </tr>\n",
       "  </tbody>\n",
       "</table>\n",
       "<p>5404 rows × 9 columns</p>\n",
       "</div>"
      ],
      "text/plain": [
       "       datetime ticker   open  close   high    low        volume  year  month\n",
       "0    1998-03-16  BBDC4  10.90  10.95  10.95  10.65  8.684946e+06  1998      3\n",
       "1    1998-03-17  BBDC4  10.89  11.20  11.20  10.89  1.458141e+07  1998      3\n",
       "2    1998-03-18  BBDC4  11.10  11.10  11.35  11.10  1.065082e+07  1998      3\n",
       "3    1998-03-19  BBDC4  11.20  11.20  11.25  11.08  1.043042e+07  1998      3\n",
       "4    1998-03-20  BBDC4  11.20  11.80  11.80  11.20  8.596442e+06  1998      3\n",
       "...         ...    ...    ...    ...    ...    ...           ...   ...    ...\n",
       "5399 2020-12-22  BBDC4  26.76  27.10  27.25  26.76  8.619520e+08  2020     12\n",
       "5400 2020-12-23  BBDC4  27.32  27.72  27.90  27.16  7.282858e+08  2020     12\n",
       "5401 2020-12-28  BBDC4  28.10  27.99  28.26  27.92  1.052361e+09  2020     12\n",
       "5402 2020-12-29  BBDC4  27.82  27.53  27.88  27.37  6.109755e+08  2020     12\n",
       "5403 2020-12-30  BBDC4  27.63  27.14  27.74  27.14  6.027872e+08  2020     12\n",
       "\n",
       "[5404 rows x 9 columns]"
      ]
     },
     "execution_count": 23,
     "metadata": {},
     "output_type": "execute_result"
    }
   ],
   "source": [
    "data_stock = data_stock[data_stock.open<100] #solo se dejan los valores menores a 100\n",
    "data_stock = data_stock.reset_index(drop=True)\n",
    "data_stock"
   ]
  },
  {
   "cell_type": "markdown",
   "id": "4c23720e",
   "metadata": {},
   "source": [
    "graficando nuevamente eliminando los valores atípicos."
   ]
  },
  {
   "cell_type": "code",
   "execution_count": 24,
   "id": "09339e7f",
   "metadata": {},
   "outputs": [
    {
     "data": {
      "image/png": "[encoded data removed]",
      "text/plain": [
       "<Figure size 1080x432 with 1 Axes>"
      ]
     },
     "metadata": {
      "needs_background": "light"
     },
     "output_type": "display_data"
    },
    {
     "name": "stdout",
     "output_type": "stream",
     "text": [
      "la media de open es:  30.74380458919319\n"
     ]
    }
   ],
   "source": [
    "\n",
    "plt.figure(figsize=(15, 6))  # Tamaño de la figura (ancho x alto)\n",
    "plt.boxplot(data_stock['open'], vert=False)  # 'Columna_de_interés' representa los datos que quieres visualizar\n",
    "\n",
    "# Personalizar el gráfico\n",
    "plt.title('Comportamiento Apertura de stock BBDC4 eliminando valores mayores a 100')\n",
    "plt.xlabel('open')\n",
    "plt.ylabel('Valor de la acccion')\n",
    "plt.grid(True)  # Mostrar cuadrícula\n",
    "\n",
    "# Mostrar el gráfico\n",
    "plt.show()\n",
    "print('la media de open es: ',data_stock['open'].mean())"
   ]
  },
  {
   "cell_type": "markdown",
   "id": "59dc95be",
   "metadata": {},
   "source": [
    "aún hay valores atípicos pero disminuyeron considerablemente, la medio paso de 35 a 30"
   ]
  },
  {
   "cell_type": "markdown",
   "id": "e93eb128",
   "metadata": {},
   "source": [
    "## Pairplot"
   ]
  },
  {
   "cell_type": "code",
   "execution_count": 25,
   "id": "83213ffc",
   "metadata": {},
   "outputs": [
    {
     "data": {
      "image/png": "[encoded data removed]",
      "text/plain": [
       "<Figure size 900x900 with 20 Axes>"
      ]
     },
     "metadata": {
      "needs_background": "light"
     },
     "output_type": "display_data"
    }
   ],
   "source": [
    "\n",
    "sns.pairplot(data=data_stock[['open','close','high','low','volume']],corner=True)\n",
    "plt.show()"
   ]
  },
  {
   "cell_type": "code",
   "execution_count": 26,
   "id": "6f85dd14",
   "metadata": {},
   "outputs": [
    {
     "data": {
      "image/png": "[encoded data removed]",
      "text/plain": [
       "<Figure size 432x432 with 3 Axes>"
      ]
     },
     "metadata": {
      "needs_background": "light"
     },
     "output_type": "display_data"
    }
   ],
   "source": [
    "sns.jointplot(data=data_stock,x= 'open',y='volume')\n",
    "plt.show()"
   ]
  },
  {
   "cell_type": "markdown",
   "id": "61580efa",
   "metadata": {},
   "source": [
    "se puede ver una relación muy lineal y proporcional entre aperturas y cierres ya que las variaciones son muy mínimas, el volumen alcanza a verse una distribución normal pero con muchos outliers"
   ]
  },
  {
   "cell_type": "markdown",
   "id": "256e57d8",
   "metadata": {},
   "source": [
    "## Construcción de la etiqueta"
   ]
  },
  {
   "cell_type": "markdown",
   "id": "c44c0ace",
   "metadata": {},
   "source": [
    "Dado que el objetivo es predecir el precio de apertura de la acción de la fecha siguiente tomando como referencia los movimientos de la fecha actual se construirá la etiqueta de cada registro con la feature open de la fecha siguiente."
   ]
  },
  {
   "cell_type": "markdown",
   "id": "24eec608",
   "metadata": {},
   "source": [
    "Nota:lo anterior es una suposición no quiere decir que en mercado en la realidad se comporte de esta manera"
   ]
  },
  {
   "cell_type": "code",
   "execution_count": 27,
   "id": "ebd1e021",
   "metadata": {},
   "outputs": [
    {
     "data": {
      "text/html": [
       "<div>\n",
       "<style scoped>\n",
       "    .dataframe tbody tr th:only-of-type {\n",
       "        vertical-align: middle;\n",
       "    }\n",
       "\n",
       "    .dataframe tbody tr th {\n",
       "        vertical-align: top;\n",
       "    }\n",
       "\n",
       "    .dataframe thead th {\n",
       "        text-align: right;\n",
       "    }\n",
       "</style>\n",
       "<table border=\"1\" class=\"dataframe\">\n",
       "  <thead>\n",
       "    <tr style=\"text-align: right;\">\n",
       "      <th></th>\n",
       "      <th>datetime</th>\n",
       "      <th>ticker</th>\n",
       "      <th>open</th>\n",
       "      <th>close</th>\n",
       "      <th>high</th>\n",
       "      <th>low</th>\n",
       "      <th>volume</th>\n",
       "      <th>year</th>\n",
       "      <th>month</th>\n",
       "      <th>etiqueta</th>\n",
       "    </tr>\n",
       "  </thead>\n",
       "  <tbody>\n",
       "    <tr>\n",
       "      <th>0</th>\n",
       "      <td>1998-03-16</td>\n",
       "      <td>BBDC4</td>\n",
       "      <td>10.90</td>\n",
       "      <td>10.95</td>\n",
       "      <td>10.95</td>\n",
       "      <td>10.65</td>\n",
       "      <td>8.684946e+06</td>\n",
       "      <td>1998</td>\n",
       "      <td>3</td>\n",
       "      <td>10.89</td>\n",
       "    </tr>\n",
       "    <tr>\n",
       "      <th>1</th>\n",
       "      <td>1998-03-17</td>\n",
       "      <td>BBDC4</td>\n",
       "      <td>10.89</td>\n",
       "      <td>11.20</td>\n",
       "      <td>11.20</td>\n",
       "      <td>10.89</td>\n",
       "      <td>1.458141e+07</td>\n",
       "      <td>1998</td>\n",
       "      <td>3</td>\n",
       "      <td>11.1</td>\n",
       "    </tr>\n",
       "    <tr>\n",
       "      <th>2</th>\n",
       "      <td>1998-03-18</td>\n",
       "      <td>BBDC4</td>\n",
       "      <td>11.10</td>\n",
       "      <td>11.10</td>\n",
       "      <td>11.35</td>\n",
       "      <td>11.10</td>\n",
       "      <td>1.065082e+07</td>\n",
       "      <td>1998</td>\n",
       "      <td>3</td>\n",
       "      <td>11.2</td>\n",
       "    </tr>\n",
       "    <tr>\n",
       "      <th>3</th>\n",
       "      <td>1998-03-19</td>\n",
       "      <td>BBDC4</td>\n",
       "      <td>11.20</td>\n",
       "      <td>11.20</td>\n",
       "      <td>11.25</td>\n",
       "      <td>11.08</td>\n",
       "      <td>1.043042e+07</td>\n",
       "      <td>1998</td>\n",
       "      <td>3</td>\n",
       "      <td>11.2</td>\n",
       "    </tr>\n",
       "    <tr>\n",
       "      <th>4</th>\n",
       "      <td>1998-03-20</td>\n",
       "      <td>BBDC4</td>\n",
       "      <td>11.20</td>\n",
       "      <td>11.80</td>\n",
       "      <td>11.80</td>\n",
       "      <td>11.20</td>\n",
       "      <td>8.596442e+06</td>\n",
       "      <td>1998</td>\n",
       "      <td>3</td>\n",
       "      <td>11.7</td>\n",
       "    </tr>\n",
       "    <tr>\n",
       "      <th>...</th>\n",
       "      <td>...</td>\n",
       "      <td>...</td>\n",
       "      <td>...</td>\n",
       "      <td>...</td>\n",
       "      <td>...</td>\n",
       "      <td>...</td>\n",
       "      <td>...</td>\n",
       "      <td>...</td>\n",
       "      <td>...</td>\n",
       "      <td>...</td>\n",
       "    </tr>\n",
       "    <tr>\n",
       "      <th>5398</th>\n",
       "      <td>2020-12-21</td>\n",
       "      <td>BBDC4</td>\n",
       "      <td>26.60</td>\n",
       "      <td>26.56</td>\n",
       "      <td>27.09</td>\n",
       "      <td>26.53</td>\n",
       "      <td>1.559189e+09</td>\n",
       "      <td>2020</td>\n",
       "      <td>12</td>\n",
       "      <td>26.76</td>\n",
       "    </tr>\n",
       "    <tr>\n",
       "      <th>5399</th>\n",
       "      <td>2020-12-22</td>\n",
       "      <td>BBDC4</td>\n",
       "      <td>26.76</td>\n",
       "      <td>27.10</td>\n",
       "      <td>27.25</td>\n",
       "      <td>26.76</td>\n",
       "      <td>8.619520e+08</td>\n",
       "      <td>2020</td>\n",
       "      <td>12</td>\n",
       "      <td>27.32</td>\n",
       "    </tr>\n",
       "    <tr>\n",
       "      <th>5400</th>\n",
       "      <td>2020-12-23</td>\n",
       "      <td>BBDC4</td>\n",
       "      <td>27.32</td>\n",
       "      <td>27.72</td>\n",
       "      <td>27.90</td>\n",
       "      <td>27.16</td>\n",
       "      <td>7.282858e+08</td>\n",
       "      <td>2020</td>\n",
       "      <td>12</td>\n",
       "      <td>28.1</td>\n",
       "    </tr>\n",
       "    <tr>\n",
       "      <th>5401</th>\n",
       "      <td>2020-12-28</td>\n",
       "      <td>BBDC4</td>\n",
       "      <td>28.10</td>\n",
       "      <td>27.99</td>\n",
       "      <td>28.26</td>\n",
       "      <td>27.92</td>\n",
       "      <td>1.052361e+09</td>\n",
       "      <td>2020</td>\n",
       "      <td>12</td>\n",
       "      <td>27.82</td>\n",
       "    </tr>\n",
       "    <tr>\n",
       "      <th>5402</th>\n",
       "      <td>2020-12-29</td>\n",
       "      <td>BBDC4</td>\n",
       "      <td>27.82</td>\n",
       "      <td>27.53</td>\n",
       "      <td>27.88</td>\n",
       "      <td>27.37</td>\n",
       "      <td>6.109755e+08</td>\n",
       "      <td>2020</td>\n",
       "      <td>12</td>\n",
       "      <td>27.63</td>\n",
       "    </tr>\n",
       "  </tbody>\n",
       "</table>\n",
       "<p>5403 rows × 10 columns</p>\n",
       "</div>"
      ],
      "text/plain": [
       "       datetime ticker   open  close   high    low        volume  year  month  \\\n",
       "0    1998-03-16  BBDC4  10.90  10.95  10.95  10.65  8.684946e+06  1998      3   \n",
       "1    1998-03-17  BBDC4  10.89  11.20  11.20  10.89  1.458141e+07  1998      3   \n",
       "2    1998-03-18  BBDC4  11.10  11.10  11.35  11.10  1.065082e+07  1998      3   \n",
       "3    1998-03-19  BBDC4  11.20  11.20  11.25  11.08  1.043042e+07  1998      3   \n",
       "4    1998-03-20  BBDC4  11.20  11.80  11.80  11.20  8.596442e+06  1998      3   \n",
       "...         ...    ...    ...    ...    ...    ...           ...   ...    ...   \n",
       "5398 2020-12-21  BBDC4  26.60  26.56  27.09  26.53  1.559189e+09  2020     12   \n",
       "5399 2020-12-22  BBDC4  26.76  27.10  27.25  26.76  8.619520e+08  2020     12   \n",
       "5400 2020-12-23  BBDC4  27.32  27.72  27.90  27.16  7.282858e+08  2020     12   \n",
       "5401 2020-12-28  BBDC4  28.10  27.99  28.26  27.92  1.052361e+09  2020     12   \n",
       "5402 2020-12-29  BBDC4  27.82  27.53  27.88  27.37  6.109755e+08  2020     12   \n",
       "\n",
       "     etiqueta  \n",
       "0       10.89  \n",
       "1        11.1  \n",
       "2        11.2  \n",
       "3        11.2  \n",
       "4        11.7  \n",
       "...       ...  \n",
       "5398    26.76  \n",
       "5399    27.32  \n",
       "5400     28.1  \n",
       "5401    27.82  \n",
       "5402    27.63  \n",
       "\n",
       "[5403 rows x 10 columns]"
      ]
     },
     "execution_count": 27,
     "metadata": {},
     "output_type": "execute_result"
    }
   ],
   "source": [
    "# Crear la columna 'Nueva_columna'\n",
    "data_stock['etiqueta'] = None\n",
    "\n",
    "\n",
    "for i in range(len(data_stock) - 1):  # Iterar hasta el penúltimo índice\n",
    "    data_stock.at[i, 'etiqueta'] = data_stock['open'].iloc[i + 1]\n",
    "\n",
    "data_stock = data_stock.drop(data_stock.index[-1]) #se elimina ultimo registro ya que no tieen apertura del dia siguiente\n",
    "data_stock = data_stock.reset_index(drop=True)\n",
    "data_stock"
   ]
  },
  {
   "cell_type": "markdown",
   "id": "50b32a02",
   "metadata": {},
   "source": [
    "se anexa feature llamada etiqueta al dataset"
   ]
  },
  {
   "cell_type": "markdown",
   "id": "7fe5d3bb",
   "metadata": {},
   "source": [
    "# Modelos de predicción"
   ]
  },
  {
   "cell_type": "markdown",
   "id": "a16b4be8",
   "metadata": {},
   "source": [
    "a continuación se implementara modelo de regresión lineal simple LinearRegression sin ajustar ningún parámetro con el fin de realizar la predicción de la acción."
   ]
  },
  {
   "cell_type": "markdown",
   "id": "9ed601e3",
   "metadata": {},
   "source": [
    "## LinearRegression"
   ]
  },
  {
   "cell_type": "code",
   "execution_count": 28,
   "id": "c0611e80",
   "metadata": {},
   "outputs": [],
   "source": [
    "from sklearn.preprocessing import StandardScaler #para escalar datos\n",
    "from sklearn.linear_model import LinearRegression #para modelo\n",
    "from sklearn.model_selection import train_test_split #para probar modelo"
   ]
  },
  {
   "cell_type": "code",
   "execution_count": 29,
   "id": "0b6b8e0b",
   "metadata": {},
   "outputs": [],
   "source": [
    "#se separan las columna de prediccion y las x\n",
    "X_cols =  ['open','close','high','low','volume'] \n",
    "y_col = ['etiqueta']\n",
    "\n",
    "X = data_stock[X_cols].values\n",
    "y = data_stock[y_col].values\n",
    "\n",
    "#separacion de los datos de entrenamiento\n",
    "X_train, X_test, y_train, y_test = train_test_split(X,y)\n",
    "\n",
    "#Estandarizacion\n",
    "sc_x = StandardScaler().fit(X)\n",
    "sc_y = StandardScaler().fit(y)\n",
    "\n",
    "#Estandarizacion de las varian¡bles de test y entrenamiento\n",
    "X_train = sc_x.transform(X_train)\n",
    "X_test = sc_x.transform(X_test)\n",
    "y_train = sc_y.transform(y_train)\n",
    "y_test = sc_y.transform(y_test)\n",
    "\n",
    "#modelo\n",
    "model = LinearRegression()\n",
    "model.fit(X_train,y_train)\n",
    "#prediccion \n",
    "y_pred = model.predict(X_test)\n",
    "y_train_pred = model.predict(X_train)"
   ]
  },
  {
   "cell_type": "markdown",
   "id": "cccd441c",
   "metadata": {},
   "source": [
    "## Métricas"
   ]
  },
  {
   "cell_type": "markdown",
   "id": "b9fa97c6",
   "metadata": {},
   "source": [
    "utilizando el score para analizar los esultados del modelo"
   ]
  },
  {
   "cell_type": "code",
   "execution_count": 30,
   "id": "f3232cf1",
   "metadata": {},
   "outputs": [
    {
     "name": "stdout",
     "output_type": "stream",
     "text": [
      "r2 test : 0.9993\n",
      "r2 train : 0.9954\n"
     ]
    }
   ],
   "source": [
    "import sklearn.metrics as metrics\n",
    "from sklearn import metrics\n",
    "r2_test = metrics.r2_score(y_test,y_pred)\n",
    "print('r2 test :', r2_test.round(4))\n",
    "r2_y_train = metrics.r2_score(y_train,y_train_pred)\n",
    "print('r2 train :', r2_y_train.round(4))"
   ]
  },
  {
   "cell_type": "markdown",
   "id": "2e105879",
   "metadata": {},
   "source": [
    "se obtiene un muy buen score con solo el modelo de regresión lineal simple son muy cercanos los resultados del test y del entrenamiento son muy cercanos por lo que parece ser un buen modelo para este caso."
   ]
  },
  {
   "cell_type": "markdown",
   "id": "eb5a35ef",
   "metadata": {},
   "source": [
    "analizando un poco más el peso que las features  tienen sobre el modelo se tiene lo siguiente:"
   ]
  },
  {
   "cell_type": "code",
   "execution_count": 31,
   "id": "3476ba09",
   "metadata": {},
   "outputs": [],
   "source": [
    "from regressors import stats\n",
    "model.intercept_ = model.intercept_[0]\n",
    "model.coef_ = model.coef_.reshape(-1)"
   ]
  },
  {
   "cell_type": "code",
   "execution_count": 32,
   "id": "7d599662",
   "metadata": {},
   "outputs": [
    {
     "name": "stdout",
     "output_type": "stream",
     "text": [
      "==========Summary===========\n",
      "Residuals:\n",
      "    Min      1Q  Median     3Q    Max\n",
      "-0.2073 -0.0095  0.0002 0.0073 0.3421\n",
      "\n",
      "\n",
      "Coefficients:\n",
      "            Estimate  Std. Error  t value   p value\n",
      "_intercept -0.000103    0.000696  -0.1478  0.882483\n",
      "open       -0.013489    0.031941  -0.4223  0.672862\n",
      "close       0.926432    0.032078  28.8810  0.000000\n",
      "high        0.156010    0.038230   4.0808  0.000048\n",
      "low        -0.071532    0.035453  -2.0177  0.043825\n",
      "volume     -0.000249    0.000645  -0.3864  0.699272\n",
      "---\n",
      "R-squared:  0.99934,    Adjusted R-squared:  0.99934\n",
      "F-statistic: 409919.65 on 5 features\n"
     ]
    }
   ],
   "source": [
    "y_test = y_test.reshape(-1)\n",
    "\n",
    "print('==========Summary===========')\n",
    "stats.summary(model, X_test, y_test, X_cols)"
   ]
  },
  {
   "cell_type": "markdown",
   "id": "5f5cc83d",
   "metadata": {},
   "source": [
    "de la tabla anterior por ahora lo importante es R-squared y Adjusted R-squared no tienen diferencias significativas. En el p-value la feature que más tiene peso es “open”. Dado que son pocas features no se aplicara reducción con PCA. "
   ]
  },
  {
   "cell_type": "markdown",
   "id": "1e94dbc4",
   "metadata": {},
   "source": [
    "## Análisis de residuales"
   ]
  },
  {
   "cell_type": "markdown",
   "id": "fa4db57b",
   "metadata": {},
   "source": [
    "aunque el score fue muy bueno es necesario identificar que tan dispersos están los puntos que se predijeron en la prueba respecto a los reales y con eso verificar si es necesario seguir ajustando el modelo."
   ]
  },
  {
   "cell_type": "markdown",
   "id": "3477b2fa",
   "metadata": {},
   "source": [
    "se aplica la transformada inversa de los datos para poder ver los residuales con los precios originales y no los escalados."
   ]
  },
  {
   "cell_type": "code",
   "execution_count": 33,
   "id": "e46babd7",
   "metadata": {},
   "outputs": [],
   "source": [
    "y_pred_inv = sc_y.inverse_transform(y_pred.reshape(-1, 1))\n",
    "y_test_inv =  sc_y.inverse_transform(y_test.reshape(-1, 1))\n",
    "y_train_inv =  sc_y.inverse_transform(y_train.reshape(-1, 1))\n",
    "y_train_pred_inv =  sc_y.inverse_transform(y_train_pred.reshape(-1, 1))\n"
   ]
  },
  {
   "cell_type": "markdown",
   "id": "05b1e5cb",
   "metadata": {},
   "source": [
    "se grafican los residuales que es la resta entre los valores reales y los que se predijeron para cada uno de los precios."
   ]
  },
  {
   "cell_type": "code",
   "execution_count": 34,
   "id": "98c3e1b7",
   "metadata": {},
   "outputs": [
    {
     "data": {
      "image/png": "[encoded data removed]",
      "text/plain": [
       "<Figure size 1080x432 with 1 Axes>"
      ]
     },
     "metadata": {
      "needs_background": "light"
     },
     "output_type": "display_data"
    }
   ],
   "source": [
    "plt.figure(figsize=(15, 6))\n",
    "residuals = np.subtract(y_test_inv, y_pred_inv)\n",
    "plt.scatter(y_pred_inv, residuals)\n",
    "\n",
    "plt.axvline(x = 0, c='k', ls='--', alpha=0.5)\n",
    "plt.axhline(y = 0, c='k', ls='--', alpha=0.5)\n",
    "plt.scatter(y_pred, residuals, alpha=0.25)\n",
    "plt.xlabel('Predicciones')\n",
    "plt.ylabel('Realidad')\n",
    "plt.title('Residueles: Diferencia entre prediccion y realidad')\n",
    "\n",
    "plt.show()"
   ]
  },
  {
   "cell_type": "markdown",
   "id": "de505037",
   "metadata": {},
   "source": [
    "aunque hay un muy buen score hay muchos puntos dispersos que se alejan de 0, por tal razón se probaran otros modelos con algoritmos de regresión más robustos y profundos."
   ]
  },
  {
   "cell_type": "markdown",
   "id": "f704a1e3",
   "metadata": {},
   "source": [
    "ahora haciendo una prueba aleatoria con un registro del dataset elegido a la azar"
   ]
  },
  {
   "cell_type": "code",
   "execution_count": 35,
   "id": "e0a94f5d",
   "metadata": {},
   "outputs": [],
   "source": [
    "import random"
   ]
  },
  {
   "cell_type": "code",
   "execution_count": 36,
   "id": "e534c694",
   "metadata": {},
   "outputs": [
    {
     "data": {
      "text/plain": [
       "[[27.97, 28.46, 28.56, 27.8, 207345607.0]]"
      ]
     },
     "execution_count": 36,
     "metadata": {},
     "output_type": "execute_result"
    }
   ],
   "source": [
    "dato_stock_ale = data_stock.sample() # escogiendo registro al azar\n",
    "dato_stock_ale_p = dato_stock_ale [['open','close','high','low','volume']] #seleccionando features de entrada\n",
    "dato_stock_ale_p = dato_stock_ale_p.to_numpy().tolist() #pasando a una lista\n",
    "dato_stock_ale_p"
   ]
  },
  {
   "cell_type": "markdown",
   "id": "ec38b430",
   "metadata": {},
   "source": [
    "los anteriores son los datos de entrada de una acción de un día cualquiera el objetivo es predecir el precio de apertura del siguiente día."
   ]
  },
  {
   "cell_type": "code",
   "execution_count": 37,
   "id": "c453faee",
   "metadata": {},
   "outputs": [
    {
     "name": "stdout",
     "output_type": "stream",
     "text": [
      "el resultado de la prediccion con la que la accion abrira el dia siguiente es:  [[28.44804485]]\n"
     ]
    }
   ],
   "source": [
    "X_test_p = np.array(dato_stock_ale_p)\n",
    "y_pred_p = model.predict(sc_x.transform(X_test_p.reshape(1, -1))) #escalando valor para prediccion \n",
    "y_test_inv_p =  sc_y.inverse_transform(y_pred_p.reshape(-1, 1))#aplicando transformada inversa\n",
    "print('el resultado de la prediccion con la que la accion abrira el dia siguiente es: ',y_test_inv_p) "
   ]
  },
  {
   "cell_type": "markdown",
   "id": "bcf5dd24",
   "metadata": {},
   "source": [
    "visualizando el registro escogido al azar"
   ]
  },
  {
   "cell_type": "code",
   "execution_count": 38,
   "id": "4fa7df40",
   "metadata": {},
   "outputs": [
    {
     "data": {
      "text/html": [
       "<div>\n",
       "<style scoped>\n",
       "    .dataframe tbody tr th:only-of-type {\n",
       "        vertical-align: middle;\n",
       "    }\n",
       "\n",
       "    .dataframe tbody tr th {\n",
       "        vertical-align: top;\n",
       "    }\n",
       "\n",
       "    .dataframe thead th {\n",
       "        text-align: right;\n",
       "    }\n",
       "</style>\n",
       "<table border=\"1\" class=\"dataframe\">\n",
       "  <thead>\n",
       "    <tr style=\"text-align: right;\">\n",
       "      <th></th>\n",
       "      <th>datetime</th>\n",
       "      <th>ticker</th>\n",
       "      <th>open</th>\n",
       "      <th>close</th>\n",
       "      <th>high</th>\n",
       "      <th>low</th>\n",
       "      <th>volume</th>\n",
       "      <th>year</th>\n",
       "      <th>month</th>\n",
       "      <th>etiqueta</th>\n",
       "    </tr>\n",
       "  </thead>\n",
       "  <tbody>\n",
       "    <tr>\n",
       "      <th>4049</th>\n",
       "      <td>2015-07-10</td>\n",
       "      <td>BBDC4</td>\n",
       "      <td>27.97</td>\n",
       "      <td>28.46</td>\n",
       "      <td>28.56</td>\n",
       "      <td>27.8</td>\n",
       "      <td>207345607.0</td>\n",
       "      <td>2015</td>\n",
       "      <td>7</td>\n",
       "      <td>28.77</td>\n",
       "    </tr>\n",
       "  </tbody>\n",
       "</table>\n",
       "</div>"
      ],
      "text/plain": [
       "       datetime ticker   open  close   high   low       volume  year  month  \\\n",
       "4049 2015-07-10  BBDC4  27.97  28.46  28.56  27.8  207345607.0  2015      7   \n",
       "\n",
       "     etiqueta  \n",
       "4049    28.77  "
      ]
     },
     "execution_count": 38,
     "metadata": {},
     "output_type": "execute_result"
    }
   ],
   "source": [
    "dato_stock_ale "
   ]
  },
  {
   "cell_type": "markdown",
   "id": "dd0d15ec",
   "metadata": {},
   "source": [
    "cómo se puede ver el resultado de la predicción del modelo respecto al valor de la etiqueta real es muy cercano"
   ]
  },
  {
   "cell_type": "markdown",
   "id": "c47ab533",
   "metadata": {},
   "source": [
    "ahora se probaran otros algoritmos"
   ]
  },
  {
   "cell_type": "markdown",
   "id": "d9d6a441",
   "metadata": {},
   "source": [
    "# MODELOS ROBUSTOS"
   ]
  },
  {
   "cell_type": "markdown",
   "id": "6ef4fe22",
   "metadata": {},
   "source": [
    "Dado que aplicando el LinearRegression aun presentaba residuales se intentara reducirlos evaliando diferentes modelos mas robustos y profundos como el SVR,GradientBoostingRegressor Y Ransac. \n",
    "\n",
    "se buscara optimizar los modelos encontrando los mejores parámetros con la ayuda del algoritmo GridSearchCV  utilizando validacion cruzada de 5 pliegues.\n"
   ]
  },
  {
   "cell_type": "code",
   "execution_count": 39,
   "id": "a24f494f",
   "metadata": {},
   "outputs": [
    {
     "name": "stdout",
     "output_type": "stream",
     "text": [
      "SVR 0.9950565185054081 SVR(C=10, gamma='auto', kernel='linear')\n",
      "GRADIENT 0.9944720890320212 GradientBoostingRegressor(learning_rate=0.05)\n",
      "ransac 0.9953704454499546 RANSACRegressor(max_trials=50, min_samples=0.5, random_state=42)\n"
     ]
    }
   ],
   "source": [
    "from sklearn.ensemble import GradientBoostingRegressor\n",
    "from sklearn.linear_model import RANSACRegressor\n",
    "from sklearn.model_selection import GridSearchCV\n",
    "from sklearn.svm import SVR\n",
    "#modelos a implementar\n",
    "reg = {\n",
    " 'SVR' : SVR(), \n",
    " 'GRADIENT' : GradientBoostingRegressor(), \n",
    " 'ransac' : RANSACRegressor(random_state=42)\n",
    "    }\n",
    "\n",
    "#rangos de parametros de cada modelo\n",
    "params = {'SVR' : {'kernel' : ['linear','poly','rbf'],'gamma' : ['auto','scale'],'C': [1,5,10]}, \n",
    "          'GRADIENT' : {'loss' : ['squared_error','absolute_error'],'learning_rate': [0.01,0.05,0.1]},\n",
    "          'ransac': {'min_samples': [0.5, 0.75, 1.0],'max_trials': [50, 100, 200]}}  \n",
    "\n",
    "\n",
    "\n",
    "best_score = 0.000000000001 #valor minimo de arranque\n",
    "best_model = None\n",
    "scores_values =[]\n",
    "names = []\n",
    "#for para iterar con cada uno de los modelos y parametros\n",
    "\n",
    "for name , reg in reg.items():\n",
    "    #algoritmo para encontrar los mejores parametros de cada modelo\n",
    "    grid_reg = GridSearchCV(reg, params[name], cv = 5).fit(X_train, y_train) #cross valdation de s pliegues\n",
    "    score = np.abs(grid_reg.best_score_)\n",
    "    scores_values.append(score)\n",
    "    #encontrar mejores estimadores\n",
    "    print(name,score,grid_reg.best_estimator_)\n",
    "    if score > best_score:\n",
    "         best_score = score\n",
    "         best_model = grid_reg.best_estimator_\n",
    "        \n"
   ]
  },
  {
   "cell_type": "markdown",
   "id": "c26d667e",
   "metadata": {},
   "source": [
    "al igual que regresor lineal simple el score para cada uno de los modelos fue muy bueno y son prácticamente iguales, como es conocido el modelo RANSAC ajusta los valores atípicos de una mejor manera por lo que se utilizara este modelo aplicando los mejores parámetros encontrados según el código anterior para este caso."
   ]
  },
  {
   "cell_type": "code",
   "execution_count": 40,
   "id": "d95c33c5",
   "metadata": {},
   "outputs": [],
   "source": [
    "model_2 = RANSACRegressor(max_trials=50, min_samples=0.5, random_state=42)\n",
    "model_2.fit(X_train,y_train)\n",
    "y_pred_2 = model_2.predict(X_test)\n",
    "y_train_pred_2 = model_2.predict(X_train)"
   ]
  },
  {
   "cell_type": "markdown",
   "id": "2cc9749b",
   "metadata": {},
   "source": [
    "## Análisis de Residuales  "
   ]
  },
  {
   "cell_type": "markdown",
   "id": "617ea148",
   "metadata": {},
   "source": [
    "se aplica la transformada inversa de los datos para poder ver los residuales con los precios originales y no los escalados."
   ]
  },
  {
   "cell_type": "code",
   "execution_count": 41,
   "id": "e7b8c92a",
   "metadata": {},
   "outputs": [],
   "source": [
    "y_pred_inv_2 = sc_y.inverse_transform(y_pred_2.reshape(-1, 1))\n",
    "y_test_inv_2 =  sc_y.inverse_transform(y_test.reshape(-1, 1))\n",
    "y_train_inv_2 =  sc_y.inverse_transform(y_train.reshape(-1, 1))\n",
    "y_train_pred_inv_2 =  sc_y.inverse_transform(y_train_pred_2.reshape(-1, 1))\n"
   ]
  },
  {
   "cell_type": "code",
   "execution_count": 42,
   "id": "29ccd54b",
   "metadata": {},
   "outputs": [
    {
     "data": {
      "image/png": "[encoded data removed]",
      "text/plain": [
       "<Figure size 1080x432 with 1 Axes>"
      ]
     },
     "metadata": {
      "needs_background": "light"
     },
     "output_type": "display_data"
    }
   ],
   "source": [
    "plt.figure(figsize=(15, 6))\n",
    "residuals_2 = np.subtract(y_test_inv_2, y_pred_inv_2)\n",
    "plt.scatter(y_pred_inv_2, residuals_2)\n",
    "\n",
    "plt.axvline(x = 0, c='k', ls='--', alpha=0.5)\n",
    "plt.axhline(y = 0, c='k', ls='--', alpha=0.5)\n",
    "plt.scatter(y_pred_inv_2, residuals_2, alpha=0.25)\n",
    "plt.xlabel('Predicciones')\n",
    "plt.ylabel('Realidad')\n",
    "plt.title('Residueles: Diferencia entre prediccion y realidad modelo robusto')\n",
    "\n",
    "plt.show()"
   ]
  },
  {
   "cell_type": "markdown",
   "id": "dc198bf6",
   "metadata": {},
   "source": [
    "se observa que los residuales se acercan aún más a 0 con respecto a la gráfica anterior del modelo simple en especial en las predicciones más hacia la izquierda por lo que se entiende que si mejoro con el algoritmo de RANSAC."
   ]
  },
  {
   "cell_type": "markdown",
   "id": "766d3321",
   "metadata": {},
   "source": [
    "ahora haciendo una prueba al algoritmo RANSAC con el mismo registro de la acción escogido al azar y aplicado al modelo anterior"
   ]
  },
  {
   "cell_type": "code",
   "execution_count": 43,
   "id": "0ad63679",
   "metadata": {},
   "outputs": [
    {
     "data": {
      "text/plain": [
       "[[27.97, 28.46, 28.56, 27.8, 207345607.0]]"
      ]
     },
     "execution_count": 43,
     "metadata": {},
     "output_type": "execute_result"
    }
   ],
   "source": [
    "dato_stock_ale_p"
   ]
  },
  {
   "cell_type": "code",
   "execution_count": 44,
   "id": "7a72ad20",
   "metadata": {},
   "outputs": [
    {
     "name": "stdout",
     "output_type": "stream",
     "text": [
      "el resultado de la prediccion con la que la accion abrira el dia siguiente es:  [[28.4556863]]\n"
     ]
    }
   ],
   "source": [
    "X_test_p = np.array(dato_stock_ale_p)\n",
    "y_pred_p_2 = model_2.predict(sc_x.transform(X_test_p.reshape(1, -1))) #escalando valor para prediccion \n",
    "y_test_inv_p_2 =  sc_y.inverse_transform(y_pred_p_2.reshape(-1, 1))#aplicando transformada inversa\n",
    "print('el resultado de la prediccion con la que la accion abrira el dia siguiente es: ',y_test_inv_p_2) "
   ]
  },
  {
   "cell_type": "code",
   "execution_count": 45,
   "id": "444f3fd7",
   "metadata": {},
   "outputs": [
    {
     "data": {
      "text/html": [
       "<div>\n",
       "<style scoped>\n",
       "    .dataframe tbody tr th:only-of-type {\n",
       "        vertical-align: middle;\n",
       "    }\n",
       "\n",
       "    .dataframe tbody tr th {\n",
       "        vertical-align: top;\n",
       "    }\n",
       "\n",
       "    .dataframe thead th {\n",
       "        text-align: right;\n",
       "    }\n",
       "</style>\n",
       "<table border=\"1\" class=\"dataframe\">\n",
       "  <thead>\n",
       "    <tr style=\"text-align: right;\">\n",
       "      <th></th>\n",
       "      <th>datetime</th>\n",
       "      <th>ticker</th>\n",
       "      <th>open</th>\n",
       "      <th>close</th>\n",
       "      <th>high</th>\n",
       "      <th>low</th>\n",
       "      <th>volume</th>\n",
       "      <th>year</th>\n",
       "      <th>month</th>\n",
       "      <th>etiqueta</th>\n",
       "    </tr>\n",
       "  </thead>\n",
       "  <tbody>\n",
       "    <tr>\n",
       "      <th>4049</th>\n",
       "      <td>2015-07-10</td>\n",
       "      <td>BBDC4</td>\n",
       "      <td>27.97</td>\n",
       "      <td>28.46</td>\n",
       "      <td>28.56</td>\n",
       "      <td>27.8</td>\n",
       "      <td>207345607.0</td>\n",
       "      <td>2015</td>\n",
       "      <td>7</td>\n",
       "      <td>28.77</td>\n",
       "    </tr>\n",
       "  </tbody>\n",
       "</table>\n",
       "</div>"
      ],
      "text/plain": [
       "       datetime ticker   open  close   high   low       volume  year  month  \\\n",
       "4049 2015-07-10  BBDC4  27.97  28.46  28.56  27.8  207345607.0  2015      7   \n",
       "\n",
       "     etiqueta  \n",
       "4049    28.77  "
      ]
     },
     "execution_count": 45,
     "metadata": {},
     "output_type": "execute_result"
    }
   ],
   "source": [
    "dato_stock_ale "
   ]
  },
  {
   "cell_type": "markdown",
   "id": "6f024835",
   "metadata": {},
   "source": [
    "cómo se puede ver el resultado de la predicción del modelo respecto al valor de la etiqueta real es muy cercano de hecho unas decimas mas cercano que lo aplicado con el regresor lineal"
   ]
  },
  {
   "cell_type": "code",
   "execution_count": null,
   "id": "29547aff",
   "metadata": {},
   "outputs": [],
   "source": []
  }
 ],
 "metadata": {
  "kernelspec": {
   "display_name": "Python 3",
   "language": "python",
   "name": "python3"
  },
  "language_info": {
   "codemirror_mode": {
    "name": "ipython",
    "version": 3
   },
   "file_extension": ".py",
   "mimetype": "text/x-python",
   "name": "python",
   "nbconvert_exporter": "python",
   "pygments_lexer": "ipython3",
   "version": "3.8.8"
  }
 },
 "nbformat": 4,
 "nbformat_minor": 5
}
